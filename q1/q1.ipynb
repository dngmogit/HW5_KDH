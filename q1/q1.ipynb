{
 "cells": [
  {
   "cell_type": "code",
   "execution_count": 28,
   "id": "32c7b5b5",
   "metadata": {},
   "outputs": [
    {
     "name": "stdout",
     "output_type": "stream",
     "text": [
      "*** Annual Temperature Report for Seoul in 2022 ***\n",
      "Average Temperature: 13.22 Celsius\n",
      "Average Minimum Temperature: 9.18  Celsius\n",
      "Average Maximum Temperature: 18.00  Celsius\n"
     ]
    }
   ],
   "source": [
    "import csv\n",
    "\n",
    "def main():\n",
    "    f = open('2022_Seoul_Temp.csv','r',encoding='cp949')\n",
    "    Avg = 0\n",
    "    mini = 0\n",
    "    maxi = 0\n",
    "    data = csv.reader(f)\n",
    "    header = next(data)\n",
    "\n",
    "    for row in data :\n",
    "        for i in range(2,5):\n",
    "            if row[i]=='':\n",
    "                row[2] = 0\n",
    "                row[3] = 0\n",
    "                row[4] = 0\n",
    "            else:\n",
    "                row[i] = float(row[i])\n",
    "            \n",
    "        Avg+=row[2]\n",
    "        mini+=row[3]\n",
    "        maxi+=row[4] \n",
    "       \n",
    "\n",
    "    Avg = Avg/365\n",
    "    mini = mini/365\n",
    "    maxi = maxi/365\n",
    "\n",
    "    f.close()\n",
    "    print(\"*** Annual Temperature Report for Seoul in 2022 ***\")\n",
    "    print(\"Average Temperature: {0:.2f} Celsius\".format(Avg))\n",
    "    print(\"Average Minimum Temperature: {0:.2f}  Celsius\".format(mini))\n",
    "    print(\"Average Maximum Temperature: {0:.2f}  Celsius\".format(maxi))\n",
    "\n",
    "    \n",
    "if __name__ == \"__main__\":\n",
    "        main()"
   ]
  },
  {
   "cell_type": "code",
   "execution_count": null,
   "id": "cf1026aa",
   "metadata": {},
   "outputs": [],
   "source": []
  }
 ],
 "metadata": {
  "kernelspec": {
   "display_name": "Python 3 (ipykernel)",
   "language": "python",
   "name": "python3"
  },
  "language_info": {
   "codemirror_mode": {
    "name": "ipython",
    "version": 3
   },
   "file_extension": ".py",
   "mimetype": "text/x-python",
   "name": "python",
   "nbconvert_exporter": "python",
   "pygments_lexer": "ipython3",
   "version": "3.10.9"
  }
 },
 "nbformat": 4,
 "nbformat_minor": 5
}
