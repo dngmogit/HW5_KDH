{
 "cells": [
  {
   "cell_type": "code",
   "execution_count": 35,
   "id": "32c7b5b5",
   "metadata": {},
   "outputs": [
    {
     "ename": "TypeError",
     "evalue": "unsupported operand type(s) for +=: 'float' and 'str'",
     "output_type": "error",
     "traceback": [
      "\u001b[1;31m---------------------------------------------------------------------------\u001b[0m",
      "\u001b[1;31mTypeError\u001b[0m                                 Traceback (most recent call last)",
      "Cell \u001b[1;32mIn[35], line 36\u001b[0m\n\u001b[0;32m     32\u001b[0m     \u001b[38;5;28mprint\u001b[39m(\u001b[38;5;124m\"\u001b[39m\u001b[38;5;124mAverage Maximum Temperature: \u001b[39m\u001b[38;5;132;01m{0:.2f}\u001b[39;00m\u001b[38;5;124m  Celsius\u001b[39m\u001b[38;5;124m\"\u001b[39m\u001b[38;5;241m.\u001b[39mformat(maxi))\n\u001b[0;32m     35\u001b[0m \u001b[38;5;28;01mif\u001b[39;00m \u001b[38;5;18m__name__\u001b[39m \u001b[38;5;241m==\u001b[39m \u001b[38;5;124m\"\u001b[39m\u001b[38;5;124m__main__\u001b[39m\u001b[38;5;124m\"\u001b[39m:\n\u001b[1;32m---> 36\u001b[0m         \u001b[43mmain\u001b[49m\u001b[43m(\u001b[49m\u001b[43m)\u001b[49m\n",
      "Cell \u001b[1;32mIn[35], line 20\u001b[0m, in \u001b[0;36mmain\u001b[1;34m()\u001b[0m\n\u001b[0;32m     17\u001b[0m             row[i] \u001b[38;5;241m=\u001b[39m \u001b[38;5;28mfloat\u001b[39m(row[i])\n\u001b[0;32m     19\u001b[0m     Avg\u001b[38;5;241m+\u001b[39m\u001b[38;5;241m=\u001b[39mrow[\u001b[38;5;241m2\u001b[39m]\n\u001b[1;32m---> 20\u001b[0m     mini\u001b[38;5;241m+\u001b[39m\u001b[38;5;241m=\u001b[39mrow[\u001b[38;5;241m3\u001b[39m]\n\u001b[0;32m     21\u001b[0m     maxi\u001b[38;5;241m+\u001b[39m\u001b[38;5;241m=\u001b[39mrow[\u001b[38;5;241m4\u001b[39m] \n\u001b[0;32m     24\u001b[0m Avg \u001b[38;5;241m=\u001b[39m Avg\u001b[38;5;241m/\u001b[39m\u001b[38;5;241m365\u001b[39m\n",
      "\u001b[1;31mTypeError\u001b[0m: unsupported operand type(s) for +=: 'float' and 'str'"
     ]
    }
   ],
   "source": [
    "import csv\n",
    "\n",
    "def main():\n",
    "    f = open('2022_Seoul_Temp.csv','r',encoding='cp949')\n",
    "    Avg = 0\n",
    "    mini = 0\n",
    "    maxi = 0\n",
    "    bol = 0\n",
    "    data = csv.reader(f)\n",
    "    header = next(data)\n",
    "\n",
    "    for row in data :\n",
    "        for i in range(2,5):\n",
    "            if row[i]=='':\n",
    "                bol = 1\n",
    "            else:\n",
    "                row[i] = float(row[i])\n",
    "        if bol == 1:\n",
    "            bol = 0\n",
    "            break\n",
    "        Avg+=row[2]\n",
    "        mini+=row[3]\n",
    "        maxi+=row[4] \n",
    "       \n",
    "\n",
    "    Avg = Avg/365\n",
    "    mini = mini/365\n",
    "    maxi = maxi/365\n",
    "\n",
    "    f.close()\n",
    "    print(\"*** Annual Temperature Report for Seoul in 2022 ***\")\n",
    "    print(\"Average Temperature: {0:.2f} Celsius\".format(Avg))\n",
    "    print(\"Average Minimum Temperature: {0:.2f}  Celsius\".format(mini))\n",
    "    print(\"Average Maximum Temperature: {0:.2f}  Celsius\".format(maxi))\n",
    "\n",
    "    \n",
    "if __name__ == \"__main__\":\n",
    "        main()"
   ]
  },
  {
   "cell_type": "code",
   "execution_count": null,
   "id": "cf1026aa",
   "metadata": {},
   "outputs": [],
   "source": []
  }
 ],
 "metadata": {
  "kernelspec": {
   "display_name": "Python 3 (ipykernel)",
   "language": "python",
   "name": "python3"
  },
  "language_info": {
   "codemirror_mode": {
    "name": "ipython",
    "version": 3
   },
   "file_extension": ".py",
   "mimetype": "text/x-python",
   "name": "python",
   "nbconvert_exporter": "python",
   "pygments_lexer": "ipython3",
   "version": "3.10.9"
  }
 },
 "nbformat": 4,
 "nbformat_minor": 5
}
