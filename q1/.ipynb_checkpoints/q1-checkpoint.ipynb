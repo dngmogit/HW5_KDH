{
 "cells": [
  {
   "cell_type": "code",
   "execution_count": 3,
   "id": "32c7b5b5",
   "metadata": {},
   "outputs": [
    {
     "name": "stdout",
     "output_type": "stream",
     "text": [
      "*** Annual Temperature Report for Seoul in 2022 ***\n",
      "Average Temperature: 7.99 Celsius\n",
      "Average Minimum Temperature: 5.53  Celsius\n",
      "Average Maximum Temperature: 10.90  Celsius\n"
     ]
    }
   ],
   "source": [
    "import csv\n",
    "\n",
    "def main():\n",
    "    f = open('q1.csv','r',encoding='cp949')\n",
    "    Avg = 0\n",
    "    mini = 0\n",
    "    maxi = 0\n",
    "    bol = 0\n",
    "    data = csv.reader(f)\n",
    "    header = next(data)\n",
    "\n",
    "    for row in data :\n",
    "        for i in range(2,5):\n",
    "            if row[i]=='':\n",
    "                bol = 1\n",
    "            else:\n",
    "                row[i] = float(row[i])\n",
    "        if bol == 1:\n",
    "            bol = 0\n",
    "            break\n",
    "        Avg+=row[2]\n",
    "        mini+=row[3]\n",
    "        maxi+=row[4] \n",
    "       \n",
    "\n",
    "    Avg = Avg/365\n",
    "    mini = mini/365\n",
    "    maxi = maxi/365\n",
    "\n",
    "    f.close()\n",
    "    print(\"*** Annual Temperature Report for Seoul in 2022 ***\")\n",
    "    print(\"Average Temperature: {0:.2f} Celsius\".format(Avg))\n",
    "    print(\"Average Minimum Temperature: {0:.2f}  Celsius\".format(mini))\n",
    "    print(\"Average Maximum Temperature: {0:.2f}  Celsius\".format(maxi))\n",
    "\n",
    "    \n",
    "if __name__ == \"__main__\":\n",
    "        main()"
   ]
  },
  {
   "cell_type": "code",
   "execution_count": null,
   "id": "cf1026aa",
   "metadata": {},
   "outputs": [],
   "source": []
  }
 ],
 "metadata": {
  "kernelspec": {
   "display_name": "Python 3 (ipykernel)",
   "language": "python",
   "name": "python3"
  },
  "language_info": {
   "codemirror_mode": {
    "name": "ipython",
    "version": 3
   },
   "file_extension": ".py",
   "mimetype": "text/x-python",
   "name": "python",
   "nbconvert_exporter": "python",
   "pygments_lexer": "ipython3",
   "version": "3.10.9"
  }
 },
 "nbformat": 4,
 "nbformat_minor": 5
}
