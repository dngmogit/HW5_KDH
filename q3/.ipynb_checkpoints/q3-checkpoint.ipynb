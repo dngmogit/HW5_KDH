{
 "cells": [
  {
   "cell_type": "code",
   "execution_count": 2,
   "id": "e1c1eb37",
   "metadata": {},
   "outputs": [
    {
     "name": "stdout",
     "output_type": "stream",
     "text": [
      "*** Subway Report for Seoul on March 2023 ***\n",
      "1st Busiest Line: Line 2 (42521596),\n",
      "2nd Busiest Line: Line 5 (19874400)\n",
      "1st Least Line: Line 1 (7443904)\n",
      "2nd Least Line: Line 8 (5922967)\n"
     ]
    }
   ],
   "source": [
    "import csv\n",
    "\n",
    "def main():\n",
    "    \n",
    "    f = open('q3.csv','r',encoding='cp949')\n",
    "    subway = ['1호선','2호선','3호선','4호선','5호선','6호선','7호선','8호선','9호선']\n",
    "    \n",
    "    mx = [0] *9\n",
    "    data = csv.reader(f)\n",
    "    next(data)\n",
    "    \n",
    "    for row in data:\n",
    "        row[4] = int(row[4])\n",
    "        \n",
    "        if row[1] == '1호선':\n",
    "            mx[0]+= row[4]\n",
    "        elif row[1] == '2호선':\n",
    "            mx[1]+= row[4]\n",
    "        elif row[1] == '3호선':\n",
    "            mx[2]+= row[4]\n",
    "        elif row[1] == '4호선':\n",
    "            mx[3]+= row[4]\n",
    "        elif row[1] == '5호선':\n",
    "            mx[4]+= row[4]\n",
    "        elif row[1] == '6호선':\n",
    "            mx[5]+= row[4]\n",
    "        elif row[1] == '7호선':\n",
    "            mx[6]+= row[4]\n",
    "        elif row[1] == '8호선':\n",
    "            mx[7]+= row[4]\n",
    "        elif row[1] == '9호선':\n",
    "            mx[8]+= row[4]\n",
    "        \n",
    "        \n",
    "        ,\n",
    "    d = {mx[0]:'1',mx[1]:'2',mx[2]:'3',mx[3]:'4',mx[4]:'5',mx[5]:'6',mx[6]:'7',mx[7]:'8',mx[8]:'9'}\n",
    "    li = list(d.keys())\n",
    "    li.sort(reverse=True)\n",
    "            \n",
    "    f.close()\n",
    "    print(\"*** Subway Report for Seoul on March 2023 ***\")\n",
    "    print(\"1st Busiest Line: Line {0:s} ({1:d}),\".format(d.get(li[0]),li[0]))\n",
    "    print(\"2nd Busiest Line: Line {0:s} ({1:d})\".format(d.get(li[1]),li[1]))\n",
    "    print(\"1st Least Line: Line {0:s} ({1:d})\".format(d.get(li[7]),li[7]))\n",
    "    print(\"2nd Least Line: Line {0:s} ({1:d})\".format(d.get(li[8]),li[8]))\n",
    "\n",
    "    \n",
    "if __name__ == \"__main__\":\n",
    "        main()"
   ]
  },
  {
   "cell_type": "code",
   "execution_count": null,
   "id": "29548068",
   "metadata": {},
   "outputs": [],
   "source": []
  }
 ],
 "metadata": {
  "kernelspec": {
   "display_name": "Python 3 (ipykernel)",
   "language": "python",
   "name": "python3"
  },
  "language_info": {
   "codemirror_mode": {
    "name": "ipython",
    "version": 3
   },
   "file_extension": ".py",
   "mimetype": "text/x-python",
   "name": "python",
   "nbconvert_exporter": "python",
   "pygments_lexer": "ipython3",
   "version": "3.10.9"
  }
 },
 "nbformat": 4,
 "nbformat_minor": 5
}
