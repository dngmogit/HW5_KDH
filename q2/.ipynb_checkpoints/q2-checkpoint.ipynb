{
 "cells": [
  {
   "cell_type": "code",
   "execution_count": 1,
   "id": "2759b784",
   "metadata": {},
   "outputs": [
    {
     "name": "stdout",
     "output_type": "stream",
     "text": [
      "*** Annual Temperature Report for Seoul in 2022 ***\n",
      "Day with the Largest Temperature Variation: 2022-05-04\n",
      "Maximum Temperature Difference: 15.2 Celsius\n",
      "Day with the Smallest Temperature Variation: 2022-06-29\n",
      "Minimum Temperature Difference: 1.7 Celsius\n"
     ]
    }
   ],
   "source": [
    "import csv\n",
    "\n",
    "def main():\n",
    "    f = open('q2.csv','r',encoding='cp949')\n",
    "    max = ''\n",
    "    min = ''\n",
    "    \n",
    "    dif=0\n",
    "    difmax = 0\n",
    "    difmini = 100\n",
    "    \n",
    "    bol = 0\n",
    "    data = csv.reader(f)\n",
    "    next(data)\n",
    "\n",
    "    for row in data :\n",
    "        for i in range(2,5):\n",
    "            if row[i]== '':\n",
    "                bol = 1\n",
    "            else:\n",
    "                row[i] = float(row[i])\n",
    "        \n",
    "        if bol == 1:\n",
    "            bol = 0\n",
    "            break\n",
    "        \n",
    "        dif = row[4]-row[3]\n",
    "        \n",
    "        if dif < difmini:\n",
    "            difmini = dif\n",
    "            min = row[0]\n",
    "            \n",
    "        if dif > difmax:\n",
    "            difmax = dif\n",
    "            max = row[0] \n",
    "\n",
    "            \n",
    "    f.close()\n",
    "    print(\"*** Annual Temperature Report for Seoul in 2022 ***\")\n",
    "    print(\"Day with the Largest Temperature Variation: {0:s}\".format(max))\n",
    "    print(\"Maximum Temperature Difference: {0:.1f} Celsius\".format(difmax))\n",
    "    print(\"Day with the Smallest Temperature Variation: {0:s}\".format(min))\n",
    "    print(\"Minimum Temperature Difference: {0:.1f} Celsius\".format(difmini))\n",
    "\n",
    "    \n",
    "if __name__ == \"__main__\":\n",
    "        main()"
   ]
  },
  {
   "cell_type": "code",
   "execution_count": null,
   "id": "7783eb79",
   "metadata": {},
   "outputs": [],
   "source": []
  }
 ],
 "metadata": {
  "kernelspec": {
   "display_name": "Python 3 (ipykernel)",
   "language": "python",
   "name": "python3"
  },
  "language_info": {
   "codemirror_mode": {
    "name": "ipython",
    "version": 3
   },
   "file_extension": ".py",
   "mimetype": "text/x-python",
   "name": "python",
   "nbconvert_exporter": "python",
   "pygments_lexer": "ipython3",
   "version": "3.10.9"
  }
 },
 "nbformat": 4,
 "nbformat_minor": 5
}
