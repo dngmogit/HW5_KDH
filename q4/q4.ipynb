{
 "cells": [
  {
   "cell_type": "code",
   "execution_count": 25,
   "id": "aa565983",
   "metadata": {},
   "outputs": [
    {
     "name": "stdout",
     "output_type": "stream",
     "text": [
      "*** Subway Report for Seoul on March 2023 ***\n",
      "Line 1:\n",
      "Busiest Station: 서울역 (1572966)\n",
      "Least used Station: 동묘앞 (322852)\n",
      "Line 2:\n",
      "Busiest Station: 강남 (2390276)\n",
      "Least used Station: 도림천 (38588)\n",
      "Line 3:\n",
      "Busiest Station: 고속터미널 (1473534)\n",
      "Least used Station: 충무로 (48)\n",
      "Line 4:\n",
      "Busiest Station: 혜화 (1141350)\n",
      "Least used Station: 남태령 (43914)\n"
     ]
    }
   ],
   "source": [
    "import csv\n",
    "\n",
    "def main():\n",
    "    \n",
    "    f = open('202303_Seoul_Subway.csv','r',encoding='cp949')\n",
    "    subway = ['1호선','2호선','3호선','4호선']\n",
    "    \n",
    "    people = [700000]*8\n",
    "    station = ['']*8\n",
    "    \n",
    "    data = csv.reader(f)\n",
    "    next(data)\n",
    "    \n",
    "    for row in data:\n",
    "        row[4] = int(row[4])\n",
    "        \n",
    "        if row[1] == '1호선':\n",
    "            if people[0] < row[4]:\n",
    "                people[0] = row[4]\n",
    "                station[0] = row[3]\n",
    "            if people[1] > row[4]:\n",
    "                people[1] = row[4]\n",
    "                station[1] = row[3]\n",
    "        elif row[1] == '2호선':\n",
    "            if people[2] < row[4]:\n",
    "                people[2] = row[4]\n",
    "                station[2] = row[3]\n",
    "            if people[3] > row[4]:\n",
    "                people[3] = row[4]\n",
    "                station[3] = row[3]\n",
    "        elif row[1] == '3호선':\n",
    "            if people[4] < row[4]:\n",
    "                people[4] = row[4]\n",
    "                station[4] = row[3]\n",
    "            if people[5] > row[4]:\n",
    "                people[5] = row[4]\n",
    "                station[5] = row[3]\n",
    "        elif row[1] == '4호선':\n",
    "            if people[6] < row[4]:\n",
    "                people[6] = row[4]\n",
    "                station[6] = row[3]\n",
    "            if people[7] > row[4]:\n",
    "                people[7] = row[4]\n",
    "                station[7] = row[3]\n",
    "            \n",
    "    f.close()\n",
    "    print(\"*** Subway Report for Seoul on March 2023 ***\")\n",
    "    print(\"Line 1:\")\n",
    "    print(\"Busiest Station: {0:s} ({1:d})\".format(station[0],people[0]))\n",
    "    print(\"Least used Station: {0:s} ({1:d})\".format(station[1],people[1]))\n",
    "    print(\"Line 2:\")\n",
    "    print(\"Busiest Station: {0:s} ({1:d})\".format(station[2],people[2]))\n",
    "    print(\"Least used Station: {0:s} ({1:d})\".format(station[3],people[3]))\n",
    "    print(\"Line 3:\")\n",
    "    print(\"Busiest Station: {0:s} ({1:d})\".format(station[4],people[4]))\n",
    "    print(\"Least used Station: {0:s} ({1:d})\".format(station[5],people[5]))\n",
    "    print(\"Line 4:\")\n",
    "    print(\"Busiest Station: {0:s} ({1:d})\".format(station[6],people[6]))\n",
    "    print(\"Least used Station: {0:s} ({1:d})\".format(station[7],people[7]))\n",
    "    \n",
    "    \n",
    "if __name__ == \"__main__\":\n",
    "        main()"
   ]
  },
  {
   "cell_type": "code",
   "execution_count": null,
   "id": "00b65cf6",
   "metadata": {},
   "outputs": [],
   "source": []
  },
  {
   "cell_type": "code",
   "execution_count": null,
   "id": "117e9408",
   "metadata": {},
   "outputs": [],
   "source": []
  }
 ],
 "metadata": {
  "kernelspec": {
   "display_name": "Python 3 (ipykernel)",
   "language": "python",
   "name": "python3"
  },
  "language_info": {
   "codemirror_mode": {
    "name": "ipython",
    "version": 3
   },
   "file_extension": ".py",
   "mimetype": "text/x-python",
   "name": "python",
   "nbconvert_exporter": "python",
   "pygments_lexer": "ipython3",
   "version": "3.10.9"
  }
 },
 "nbformat": 4,
 "nbformat_minor": 5
}
